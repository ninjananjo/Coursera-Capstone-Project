{
 "cells": [
  {
   "cell_type": "markdown",
   "metadata": {},
   "source": [
    "# Capstone Project - The Battle of the Neighborhoods"
   ]
  },
  {
   "cell_type": "markdown",
   "metadata": {},
   "source": [
    "## Introduction"
   ]
  },
  {
   "cell_type": "markdown",
   "metadata": {},
   "source": [
    "How do nearby venues impact the house prices in London?\n",
    "\n",
    "If an individual was looking to make a house purchase in London UK, they may wish to consider how local venues impact the house price. While some may be obvious, for example, living near a night club would have an adverse impact, others maybe less clean-cut.\n",
    "\n",
    "This analysis aims to quantify and rank the impact of various venue types within a set proximity of a property. This should allow the purchaser to make a more informed decision. For example, is a property over or undervalued? What impact will local developments have on the future house price."
   ]
  },
  {
   "cell_type": "markdown",
   "metadata": {},
   "source": [
    "## Data"
   ]
  },
  {
   "cell_type": "markdown",
   "metadata": {},
   "source": [
    "#### Data Sources"
   ]
  },
  {
   "cell_type": "markdown",
   "metadata": {},
   "source": [
    "1 London house price data is published by the HM Land Registry on http://publicdata.landregistry.gov.uk/ each month. It provides average house prices for all counties in the UK. \n",
    "\n",
    "2 Local venue information for each London Borough is captured using the Foursquare API. "
   ]
  },
  {
   "cell_type": "markdown",
   "metadata": {},
   "source": [
    "##### 1. HM Land Registry"
   ]
  },
  {
   "cell_type": "markdown",
   "metadata": {},
   "source": [
    "The house price data will contains over 20 years of historical data that is not required for this analysis. I will exclude that along with non-London counties. Latitude and Longitude data will need to be added using the Geopy library.\n"
   ]
  },
  {
   "cell_type": "code",
   "execution_count": 3,
   "metadata": {},
   "outputs": [
    {
     "name": "stdout",
     "output_type": "stream",
     "text": [
      "Requirement already satisfied: pandas in c:\\users\\james\\anaconda3\\lib\\site-packages (0.24.2)\n",
      "Requirement already satisfied: python-dateutil>=2.5.0 in c:\\users\\james\\anaconda3\\lib\\site-packages (from pandas) (2.8.0)\n",
      "Requirement already satisfied: numpy>=1.12.0 in c:\\users\\james\\anaconda3\\lib\\site-packages (from pandas) (1.16.2)\n",
      "Requirement already satisfied: pytz>=2011k in c:\\users\\james\\anaconda3\\lib\\site-packages (from pandas) (2018.9)\n",
      "Requirement already satisfied: six>=1.5 in c:\\users\\james\\anaconda3\\lib\\site-packages (from python-dateutil>=2.5.0->pandas) (1.12.0)\n"
     ]
    }
   ],
   "source": [
    "!pip install pandas"
   ]
  },
  {
   "cell_type": "code",
   "execution_count": 63,
   "metadata": {},
   "outputs": [
    {
     "name": "stdout",
     "output_type": "stream",
     "text": [
      "Collecting package metadata: ...working... done\n",
      "Solving environment: ...working... done\n",
      "\n",
      "# All requested packages already installed.\n",
      "\n",
      "Requirement already satisfied: sklearn in c:\\users\\james\\anaconda3\\lib\\site-packages (0.0)\n",
      "Requirement already satisfied: scikit-learn in c:\\users\\james\\anaconda3\\lib\\site-packages (from sklearn) (0.20.3)\n",
      "Requirement already satisfied: scipy>=0.13.3 in c:\\users\\james\\anaconda3\\lib\\site-packages (from scikit-learn->sklearn) (1.2.1)\n",
      "Requirement already satisfied: numpy>=1.8.2 in c:\\users\\james\\anaconda3\\lib\\site-packages (from scikit-learn->sklearn) (1.16.2)\n"
     ]
    }
   ],
   "source": [
    "import pandas as pd\n",
    "import numpy as np\n",
    "import requests # library to handle requests\n",
    "import json # library to handle JSON files\n",
    "from pandas.io.json import json_normalize # tranform JSON file into a pandas dataframe\n",
    "\n",
    "!conda install -c conda-forge geopy --yes \n",
    "from geopy.geocoders import Nominatim # convert an address into latitude and longitude values\n",
    "\n",
    "!pip install sklearn\n",
    "from sklearn import linear_model \n",
    "\n",
    "import matplotlib.pyplot as plt # plotting library\n",
    "# backend for rendering plots within the browser\n",
    "%matplotlib inline "
   ]
  },
  {
   "cell_type": "code",
   "execution_count": 5,
   "metadata": {},
   "outputs": [
    {
     "name": "stdout",
     "output_type": "stream",
     "text": [
      "(125874, 7)\n",
      "(441, 3)\n",
      "(33, 3)\n"
     ]
    }
   ],
   "source": [
    "#Gather UK average house price data \n",
    "df = pd.read_csv(\"http://publicdata.landregistry.gov.uk/market-trend-data/house-price-index-data/Average-prices-2019-01.csv\")\n",
    "#df = pd.read_csv(\"http://publicdata.landregistry.gov.uk/market-trend-data/house-price-index-data/UK-HPI-full-file-2019-01.csv\")\n",
    "print(df.shape)\n",
    "\n",
    "#Remove historical data\n",
    "df= df[df['Date']==df['Date'].max()]\n",
    "\n",
    "#remove unneeded columns\n",
    "df.drop(columns=['Date','Monthly_Change','Annual_Change','Average_Price_SA'], inplace=True)\n",
    "df.dropna(inplace=True)\n",
    "print(df.shape)\n",
    "\n",
    "#Exclude not London boroughs\n",
    "#Area code - Code of geography (Country, Regional, County/Unitary/District Authority and London Borough)\n",
    "included_areas = ['E09']\n",
    "for area in included_areas:\n",
    "    df = df[df['Area_Code'].str.slice(stop=3)==area]\n",
    "\n",
    "#df = df[(df['Region_Name']==\"City of Westminster\")]\n",
    "print(df.shape)"
   ]
  },
  {
   "cell_type": "code",
   "execution_count": 6,
   "metadata": {},
   "outputs": [],
   "source": [
    "#Add lontitude and lattitude data\n",
    "addresses = df['Region_Name']\n",
    "latitude = []\n",
    "longitude = []\n",
    "\n",
    "for address in addresses:\n",
    "    geolocator = Nominatim(user_agent=\"ny_explorer\")\n",
    "    location = geolocator.geocode(address+\", London, UK\")\n",
    "    try:\n",
    "        latitude.append(location.latitude)\n",
    "        longitude.append(location.longitude)\n",
    "    except:\n",
    "        latitude.append(0)\n",
    "        longitude.append(0)\n",
    "        \n",
    "df['Latitude']= latitude\n",
    "df['Longitude']= longitude"
   ]
  },
  {
   "cell_type": "code",
   "execution_count": 7,
   "metadata": {},
   "outputs": [
    {
     "name": "stdout",
     "output_type": "stream",
     "text": [
      "33\n"
     ]
    },
    {
     "data": {
      "text/html": [
       "<div>\n",
       "<style scoped>\n",
       "    .dataframe tbody tr th:only-of-type {\n",
       "        vertical-align: middle;\n",
       "    }\n",
       "\n",
       "    .dataframe tbody tr th {\n",
       "        vertical-align: top;\n",
       "    }\n",
       "\n",
       "    .dataframe thead th {\n",
       "        text-align: right;\n",
       "    }\n",
       "</style>\n",
       "<table border=\"1\" class=\"dataframe\">\n",
       "  <thead>\n",
       "    <tr style=\"text-align: right;\">\n",
       "      <th></th>\n",
       "      <th>Region_Name</th>\n",
       "      <th>Area_Code</th>\n",
       "      <th>Average_Price</th>\n",
       "      <th>Latitude</th>\n",
       "      <th>Longitude</th>\n",
       "    </tr>\n",
       "  </thead>\n",
       "  <tbody>\n",
       "    <tr>\n",
       "      <th>125514</th>\n",
       "      <td>City of Westminster</td>\n",
       "      <td>E09000033</td>\n",
       "      <td>959466.0747</td>\n",
       "      <td>51.497321</td>\n",
       "      <td>-0.137149</td>\n",
       "    </tr>\n",
       "    <tr>\n",
       "      <th>125524</th>\n",
       "      <td>City of London</td>\n",
       "      <td>E09000001</td>\n",
       "      <td>868257.9880</td>\n",
       "      <td>51.515618</td>\n",
       "      <td>-0.091998</td>\n",
       "    </tr>\n",
       "    <tr>\n",
       "      <th>125525</th>\n",
       "      <td>Barking and Dagenham</td>\n",
       "      <td>E09000002</td>\n",
       "      <td>299399.3694</td>\n",
       "      <td>51.554117</td>\n",
       "      <td>0.150504</td>\n",
       "    </tr>\n",
       "    <tr>\n",
       "      <th>125526</th>\n",
       "      <td>Barnet</td>\n",
       "      <td>E09000003</td>\n",
       "      <td>516915.9846</td>\n",
       "      <td>51.648784</td>\n",
       "      <td>-0.172913</td>\n",
       "    </tr>\n",
       "    <tr>\n",
       "      <th>125527</th>\n",
       "      <td>Bexley</td>\n",
       "      <td>E09000004</td>\n",
       "      <td>341059.9194</td>\n",
       "      <td>51.441679</td>\n",
       "      <td>0.150488</td>\n",
       "    </tr>\n",
       "  </tbody>\n",
       "</table>\n",
       "</div>"
      ],
      "text/plain": [
       "                 Region_Name  Area_Code  Average_Price   Latitude  Longitude\n",
       "125514   City of Westminster  E09000033    959466.0747  51.497321  -0.137149\n",
       "125524        City of London  E09000001    868257.9880  51.515618  -0.091998\n",
       "125525  Barking and Dagenham  E09000002    299399.3694  51.554117   0.150504\n",
       "125526                Barnet  E09000003    516915.9846  51.648784  -0.172913\n",
       "125527                Bexley  E09000004    341059.9194  51.441679   0.150488"
      ]
     },
     "execution_count": 7,
     "metadata": {},
     "output_type": "execute_result"
    }
   ],
   "source": [
    "#remove regions that location information was not available\n",
    "df = df[(df['Latitude']!=0)| (df['Longitude']!=0)]\n",
    "print(df.shape[0])\n",
    "df.head()"
   ]
  },
  {
   "cell_type": "markdown",
   "metadata": {},
   "source": [
    "##### 2. HM Land Registry"
   ]
  },
  {
   "cell_type": "markdown",
   "metadata": {},
   "source": [
    "Venue data from Foursquare is received in JSON format which will need to be flattened."
   ]
  },
  {
   "cell_type": "code",
   "execution_count": 22,
   "metadata": {},
   "outputs": [],
   "source": [
    "CLIENT_ID = 'QKP4KVQQZPVXMOKNIXHGQAT1E2IJZCHQPFB4XJGP3MC0CFUO' # your Foursquare ID\n",
    "CLIENT_SECRET = '1N5BIRBR1EA5CO1QFMNHU1241SOFM5KJLLQRJGMDC0NOYWPH' # your Foursquare Secret\n",
    "VERSION = '20180605' # Foursquare API version\n",
    "LIMIT = 300 # limit of number of venues returned by Foursquare API\n",
    "radius = 1000 # define radius\n",
    "categoryId = ''"
   ]
  },
  {
   "cell_type": "code",
   "execution_count": 23,
   "metadata": {},
   "outputs": [],
   "source": [
    "#What are the most popular places nearby?\n",
    "\n",
    "def getNearbyVenues(names, latitudes, longitudes, avg_price, radius=1000):\n",
    "    \n",
    "    \n",
    "    region_list = []\n",
    "    price_list = []\n",
    "    \n",
    "    for name, lat, lng, price in zip(names, latitudes, longitudes, avg_price):\n",
    "                    \n",
    "        # create the API request URL\n",
    "        url = 'https://api.foursquare.com/v2/venues/search?&client_id={}&client_secret={}&v={}&ll={},{}&radius={}&limit={}&categoryId={}'.format(    \n",
    "            CLIENT_ID, \n",
    "            CLIENT_SECRET, \n",
    "            VERSION, \n",
    "            lat, \n",
    "            lng, \n",
    "            radius, \n",
    "            LIMIT,\n",
    "            categoryId)\n",
    "        \n",
    "        #print(url) \n",
    "        \n",
    "        # make the GET request\n",
    "        results = requests.get(url).json()[\"response\"]\n",
    "        \n",
    "        #flatten JSON file\n",
    "        resultsVen = json_normalize(results['venues'])\n",
    "        resultsCat = json_normalize(data=results['venues'], record_path=['categories'], record_prefix='cat_', errors='ignore')\n",
    "        resultsVenCat = pd.concat([resultsVen, resultsCat], axis=1)\n",
    "        resultsVenCat = resultsVenCat[['name','location.distance','location.formattedAddress','location.lat','location.lng','cat_name']]\n",
    "        \n",
    "        #Add region name and average price \n",
    "        for i in range(0,resultsVen.shape[0]):\n",
    "            region_list.append(name)\n",
    "            price_list.append(price)\n",
    "        \n",
    "        region_list = pd.DataFrame(region_list, columns=['Region Name'])\n",
    "        price_list = pd.DataFrame(price_list, columns=['Region Avg Price'])\n",
    "        \n",
    "        nearbyVenues = pd.concat([region_list, price_list, resultsVenCat], axis=1)\n",
    "\n",
    "    return(nearbyVenues)"
   ]
  },
  {
   "cell_type": "code",
   "execution_count": 54,
   "metadata": {},
   "outputs": [
    {
     "name": "stdout",
     "output_type": "stream",
     "text": [
      "(5026, 8)\n"
     ]
    },
    {
     "data": {
      "text/html": [
       "<div>\n",
       "<style scoped>\n",
       "    .dataframe tbody tr th:only-of-type {\n",
       "        vertical-align: middle;\n",
       "    }\n",
       "\n",
       "    .dataframe tbody tr th {\n",
       "        vertical-align: top;\n",
       "    }\n",
       "\n",
       "    .dataframe thead th {\n",
       "        text-align: right;\n",
       "    }\n",
       "</style>\n",
       "<table border=\"1\" class=\"dataframe\">\n",
       "  <thead>\n",
       "    <tr style=\"text-align: right;\">\n",
       "      <th></th>\n",
       "      <th>Region Name</th>\n",
       "      <th>Region Avg Price</th>\n",
       "      <th>Venue Name</th>\n",
       "      <th>Venue Distance</th>\n",
       "      <th>Venue Address</th>\n",
       "      <th>Venue Lat</th>\n",
       "      <th>Venue Lng</th>\n",
       "      <th>Venue Category</th>\n",
       "    </tr>\n",
       "  </thead>\n",
       "  <tbody>\n",
       "    <tr>\n",
       "      <th>0</th>\n",
       "      <td>City of Westminster</td>\n",
       "      <td>959466.0747</td>\n",
       "      <td>All Bar One</td>\n",
       "      <td>13</td>\n",
       "      <td>[58 Victoria St, Victoria, Greater London, SW1...</td>\n",
       "      <td>51.497418</td>\n",
       "      <td>-0.137043</td>\n",
       "      <td>Bar</td>\n",
       "    </tr>\n",
       "    <tr>\n",
       "      <th>1</th>\n",
       "      <td>City of Westminster</td>\n",
       "      <td>959466.0747</td>\n",
       "      <td>Little Waitrose &amp; Partners</td>\n",
       "      <td>13</td>\n",
       "      <td>[62 Victoria St, Greater London, SW1E 6QP, Uni...</td>\n",
       "      <td>51.497443</td>\n",
       "      <td>-0.137177</td>\n",
       "      <td>Grocery Store</td>\n",
       "    </tr>\n",
       "    <tr>\n",
       "      <th>2</th>\n",
       "      <td>City of Westminster</td>\n",
       "      <td>959466.0747</td>\n",
       "      <td>Labour Party HQ</td>\n",
       "      <td>61</td>\n",
       "      <td>[105 Victoria St (Southside), London, Greater ...</td>\n",
       "      <td>51.496948</td>\n",
       "      <td>-0.137801</td>\n",
       "      <td>Non-Profit</td>\n",
       "    </tr>\n",
       "    <tr>\n",
       "      <th>3</th>\n",
       "      <td>City of Westminster</td>\n",
       "      <td>959466.0747</td>\n",
       "      <td>Simba Sleep</td>\n",
       "      <td>49</td>\n",
       "      <td>[Southside (105 Victoria St), London, Greater ...</td>\n",
       "      <td>51.496906</td>\n",
       "      <td>-0.136903</td>\n",
       "      <td>Mattress Store</td>\n",
       "    </tr>\n",
       "    <tr>\n",
       "      <th>4</th>\n",
       "      <td>City of Westminster</td>\n",
       "      <td>959466.0747</td>\n",
       "      <td>Edelman UK</td>\n",
       "      <td>2</td>\n",
       "      <td>[105 Victoria St. (Buckingham Gate), London, G...</td>\n",
       "      <td>51.497304</td>\n",
       "      <td>-0.137162</td>\n",
       "      <td>Office</td>\n",
       "    </tr>\n",
       "  </tbody>\n",
       "</table>\n",
       "</div>"
      ],
      "text/plain": [
       "           Region Name  Region Avg Price                  Venue Name  \\\n",
       "0  City of Westminster       959466.0747                 All Bar One   \n",
       "1  City of Westminster       959466.0747  Little Waitrose & Partners   \n",
       "2  City of Westminster       959466.0747             Labour Party HQ   \n",
       "3  City of Westminster       959466.0747                 Simba Sleep   \n",
       "4  City of Westminster       959466.0747                  Edelman UK   \n",
       "\n",
       "   Venue Distance                                      Venue Address  \\\n",
       "0              13  [58 Victoria St, Victoria, Greater London, SW1...   \n",
       "1              13  [62 Victoria St, Greater London, SW1E 6QP, Uni...   \n",
       "2              61  [105 Victoria St (Southside), London, Greater ...   \n",
       "3              49  [Southside (105 Victoria St), London, Greater ...   \n",
       "4               2  [105 Victoria St. (Buckingham Gate), London, G...   \n",
       "\n",
       "   Venue Lat  Venue Lng  Venue Category  \n",
       "0  51.497418  -0.137043             Bar  \n",
       "1  51.497443  -0.137177   Grocery Store  \n",
       "2  51.496948  -0.137801      Non-Profit  \n",
       "3  51.496906  -0.136903  Mattress Store  \n",
       "4  51.497304  -0.137162          Office  "
      ]
     },
     "execution_count": 54,
     "metadata": {},
     "output_type": "execute_result"
    }
   ],
   "source": [
    "london_venues = pd.DataFrame()\n",
    "\n",
    "#request venue information for each region and store in regions_venues\n",
    "for region in df['Region_Name'].unique():\n",
    "    region_venues = df[df['Region_Name']==region]\n",
    "    london_venues = london_venues.append((getNearbyVenues(names=region_venues['Region_Name'],\n",
    "                                                  latitudes=region_venues['Latitude'],\n",
    "                                                  longitudes=region_venues['Longitude'],\n",
    "                                                  avg_price=region_venues['Average_Price'])),ignore_index=True)\n",
    "    \n",
    "#rename columns\n",
    "london_venues.rename(columns={'name':'Venue Name',\n",
    "                          'location.distance':'Venue Distance',\n",
    "                          'location.formattedAddress':'Venue Address',\n",
    "                          'location.lat':'Venue Lat',\n",
    "                          'location.lng':'Venue Lng',\n",
    "                          'cat_name':'Venue Category'}, inplace=True)\n",
    "\n",
    "print(london_venues.shape)\n",
    "london_venues.head()"
   ]
  },
  {
   "cell_type": "code",
   "execution_count": 59,
   "metadata": {},
   "outputs": [
    {
     "data": {
      "text/plain": [
       "(4799, 8)"
      ]
     },
     "execution_count": 59,
     "metadata": {},
     "output_type": "execute_result"
    }
   ],
   "source": [
    "#Drop rows where venue category is unavailable\n",
    "london_venues.dropna(subset=['Venue Category'],inplace=True)\n",
    "london_venues.shape"
   ]
  },
  {
   "cell_type": "markdown",
   "metadata": {},
   "source": [
    "#### 2.3 Feature Selection"
   ]
  },
  {
   "cell_type": "markdown",
   "metadata": {},
   "source": [
    "The venue categorisations captured through the Foursquare API will be used as a feature set. To prepare this I will need to aggregate the data by London Borough using the feature set as column headers."
   ]
  },
  {
   "cell_type": "code",
   "execution_count": 25,
   "metadata": {},
   "outputs": [
    {
     "data": {
      "text/html": [
       "<div>\n",
       "<style scoped>\n",
       "    .dataframe tbody tr th:only-of-type {\n",
       "        vertical-align: middle;\n",
       "    }\n",
       "\n",
       "    .dataframe tbody tr th {\n",
       "        vertical-align: top;\n",
       "    }\n",
       "\n",
       "    .dataframe thead th {\n",
       "        text-align: right;\n",
       "    }\n",
       "</style>\n",
       "<table border=\"1\" class=\"dataframe\">\n",
       "  <thead>\n",
       "    <tr style=\"text-align: right;\">\n",
       "      <th></th>\n",
       "      <th>Region Name</th>\n",
       "      <th>Average Price</th>\n",
       "      <th>Accessories Store</th>\n",
       "      <th>Adult Education Center</th>\n",
       "      <th>Advertising Agency</th>\n",
       "      <th>Afghan Restaurant</th>\n",
       "      <th>African Restaurant</th>\n",
       "      <th>American Restaurant</th>\n",
       "      <th>Animal Shelter</th>\n",
       "      <th>Antique Shop</th>\n",
       "      <th>...</th>\n",
       "      <th>Warehouse</th>\n",
       "      <th>Warehouse Store</th>\n",
       "      <th>Whisky Bar</th>\n",
       "      <th>Wine Bar</th>\n",
       "      <th>Wine Shop</th>\n",
       "      <th>Winery</th>\n",
       "      <th>Wings Joint</th>\n",
       "      <th>Women's Store</th>\n",
       "      <th>Yoga Studio</th>\n",
       "      <th>Zoo Exhibit</th>\n",
       "    </tr>\n",
       "  </thead>\n",
       "  <tbody>\n",
       "    <tr>\n",
       "      <th>0</th>\n",
       "      <td>Barking and Dagenham</td>\n",
       "      <td>299399.3694</td>\n",
       "      <td>0</td>\n",
       "      <td>0</td>\n",
       "      <td>0</td>\n",
       "      <td>0</td>\n",
       "      <td>0</td>\n",
       "      <td>0</td>\n",
       "      <td>0</td>\n",
       "      <td>0</td>\n",
       "      <td>...</td>\n",
       "      <td>2</td>\n",
       "      <td>0</td>\n",
       "      <td>0</td>\n",
       "      <td>0</td>\n",
       "      <td>0</td>\n",
       "      <td>0</td>\n",
       "      <td>0</td>\n",
       "      <td>0</td>\n",
       "      <td>0</td>\n",
       "      <td>0</td>\n",
       "    </tr>\n",
       "    <tr>\n",
       "      <th>1</th>\n",
       "      <td>Barnet</td>\n",
       "      <td>516915.9846</td>\n",
       "      <td>0</td>\n",
       "      <td>0</td>\n",
       "      <td>0</td>\n",
       "      <td>0</td>\n",
       "      <td>0</td>\n",
       "      <td>0</td>\n",
       "      <td>0</td>\n",
       "      <td>0</td>\n",
       "      <td>...</td>\n",
       "      <td>0</td>\n",
       "      <td>0</td>\n",
       "      <td>0</td>\n",
       "      <td>0</td>\n",
       "      <td>0</td>\n",
       "      <td>0</td>\n",
       "      <td>0</td>\n",
       "      <td>0</td>\n",
       "      <td>0</td>\n",
       "      <td>0</td>\n",
       "    </tr>\n",
       "    <tr>\n",
       "      <th>2</th>\n",
       "      <td>Bexley</td>\n",
       "      <td>341059.9194</td>\n",
       "      <td>0</td>\n",
       "      <td>0</td>\n",
       "      <td>0</td>\n",
       "      <td>0</td>\n",
       "      <td>0</td>\n",
       "      <td>0</td>\n",
       "      <td>0</td>\n",
       "      <td>0</td>\n",
       "      <td>...</td>\n",
       "      <td>0</td>\n",
       "      <td>0</td>\n",
       "      <td>0</td>\n",
       "      <td>0</td>\n",
       "      <td>0</td>\n",
       "      <td>0</td>\n",
       "      <td>0</td>\n",
       "      <td>0</td>\n",
       "      <td>0</td>\n",
       "      <td>2</td>\n",
       "    </tr>\n",
       "    <tr>\n",
       "      <th>3</th>\n",
       "      <td>Brent</td>\n",
       "      <td>476933.0759</td>\n",
       "      <td>0</td>\n",
       "      <td>0</td>\n",
       "      <td>0</td>\n",
       "      <td>0</td>\n",
       "      <td>0</td>\n",
       "      <td>0</td>\n",
       "      <td>0</td>\n",
       "      <td>0</td>\n",
       "      <td>...</td>\n",
       "      <td>0</td>\n",
       "      <td>0</td>\n",
       "      <td>0</td>\n",
       "      <td>0</td>\n",
       "      <td>0</td>\n",
       "      <td>0</td>\n",
       "      <td>0</td>\n",
       "      <td>0</td>\n",
       "      <td>0</td>\n",
       "      <td>0</td>\n",
       "    </tr>\n",
       "    <tr>\n",
       "      <th>4</th>\n",
       "      <td>Bromley</td>\n",
       "      <td>443289.1746</td>\n",
       "      <td>2</td>\n",
       "      <td>0</td>\n",
       "      <td>0</td>\n",
       "      <td>0</td>\n",
       "      <td>0</td>\n",
       "      <td>0</td>\n",
       "      <td>0</td>\n",
       "      <td>0</td>\n",
       "      <td>...</td>\n",
       "      <td>0</td>\n",
       "      <td>1</td>\n",
       "      <td>0</td>\n",
       "      <td>0</td>\n",
       "      <td>0</td>\n",
       "      <td>0</td>\n",
       "      <td>0</td>\n",
       "      <td>4</td>\n",
       "      <td>0</td>\n",
       "      <td>0</td>\n",
       "    </tr>\n",
       "  </tbody>\n",
       "</table>\n",
       "<p>5 rows × 440 columns</p>\n",
       "</div>"
      ],
      "text/plain": [
       "            Region Name  Average Price  Accessories Store  \\\n",
       "0  Barking and Dagenham    299399.3694                  0   \n",
       "1                Barnet    516915.9846                  0   \n",
       "2                Bexley    341059.9194                  0   \n",
       "3                 Brent    476933.0759                  0   \n",
       "4               Bromley    443289.1746                  2   \n",
       "\n",
       "   Adult Education Center  Advertising Agency  Afghan Restaurant  \\\n",
       "0                       0                   0                  0   \n",
       "1                       0                   0                  0   \n",
       "2                       0                   0                  0   \n",
       "3                       0                   0                  0   \n",
       "4                       0                   0                  0   \n",
       "\n",
       "   African Restaurant  American Restaurant  Animal Shelter  Antique Shop  ...  \\\n",
       "0                   0                    0               0             0  ...   \n",
       "1                   0                    0               0             0  ...   \n",
       "2                   0                    0               0             0  ...   \n",
       "3                   0                    0               0             0  ...   \n",
       "4                   0                    0               0             0  ...   \n",
       "\n",
       "   Warehouse  Warehouse Store  Whisky Bar  Wine Bar  Wine Shop  Winery  \\\n",
       "0          2                0           0         0          0       0   \n",
       "1          0                0           0         0          0       0   \n",
       "2          0                0           0         0          0       0   \n",
       "3          0                0           0         0          0       0   \n",
       "4          0                1           0         0          0       0   \n",
       "\n",
       "   Wings Joint  Women's Store  Yoga Studio  Zoo Exhibit  \n",
       "0            0              0            0            0  \n",
       "1            0              0            0            0  \n",
       "2            0              0            0            2  \n",
       "3            0              0            0            0  \n",
       "4            0              4            0            0  \n",
       "\n",
       "[5 rows x 440 columns]"
      ]
     },
     "execution_count": 25,
     "metadata": {},
     "output_type": "execute_result"
    }
   ],
   "source": [
    "# one hot encoding\n",
    "london_onehot = pd.get_dummies(london_venues[['Venue Category']], prefix=\"\", prefix_sep=\"\")\n",
    "\n",
    "# add neighborhood column back to dataframe\n",
    "london_onehot['Average Price'] = london_venues['Region Avg Price'] \n",
    "london_onehot['Region Name'] = london_venues['Region Name'] \n",
    "\n",
    "#Reorder headings\n",
    "fixed_columns = [london_onehot.columns[-1]] + [london_onehot.columns[-2]] + list(london_onehot.columns[:-2])\n",
    "london_onehot = london_onehot[fixed_columns]\n",
    "\n",
    "#Group by London Borough\n",
    "df1 = london_onehot.groupby(['Region Name','Average Price']).sum()\n",
    "df1.reset_index(inplace=True)\n",
    "df1.head()"
   ]
  },
  {
   "cell_type": "code",
   "execution_count": 60,
   "metadata": {},
   "outputs": [],
   "source": [
    "#Create dataframe of feature list\n",
    "df_features = pd.DataFrame(df1.columns)\n",
    "df_features = df_features.iloc[2:df1.shape[1], :]\n",
    "df_features.reset_index(inplace=True)"
   ]
  },
  {
   "cell_type": "markdown",
   "metadata": {},
   "source": [
    "Now we have the dataset in the required format we can run our analysis."
   ]
  },
  {
   "cell_type": "markdown",
   "metadata": {},
   "source": [
    "## Methodology & Analysis"
   ]
  },
  {
   "cell_type": "markdown",
   "metadata": {},
   "source": [
    "We need to determine which feature/venue has the biggest impact on the house price but first let's see whether just simply increased number of venues results increased property value"
   ]
  },
  {
   "cell_type": "code",
   "execution_count": 82,
   "metadata": {},
   "outputs": [
    {
     "data": {
      "image/png": "[encoded data removed]",
      "text/plain": [
       "<Figure size 432x288 with 1 Axes>"
      ]
     },
     "metadata": {
      "needs_background": "light"
     },
     "output_type": "display_data"
    }
   ],
   "source": [
    "venue_count = london_venues.groupby(['Region Name','Region Avg Price']).count()\n",
    "venue_count.reset_index(inplace=True)\n",
    "venue_count = venue_count[['Region Name','Region Avg Price','Venue Category']]\n",
    "venue_count.sort_values(by=['Venue Category'],inplace=True)\n",
    "\n",
    "\n",
    "plt.scatter(venue_count['Venue Category'],venue_count['Region Avg Price'])\n",
    "plt.title('House price vs. number of nearby venues')\n",
    "plt.xlabel('Number of nearby venues')\n",
    "plt.ylabel('House price (GBP)')\n",
    "plt.show()"
   ]
  },
  {
   "cell_type": "code",
   "execution_count": 80,
   "metadata": {},
   "outputs": [
    {
     "data": {
      "text/html": [
       "<div>\n",
       "<style scoped>\n",
       "    .dataframe tbody tr th:only-of-type {\n",
       "        vertical-align: middle;\n",
       "    }\n",
       "\n",
       "    .dataframe tbody tr th {\n",
       "        vertical-align: top;\n",
       "    }\n",
       "\n",
       "    .dataframe thead th {\n",
       "        text-align: right;\n",
       "    }\n",
       "</style>\n",
       "<table border=\"1\" class=\"dataframe\">\n",
       "  <thead>\n",
       "    <tr style=\"text-align: right;\">\n",
       "      <th></th>\n",
       "      <th>Region Avg Price</th>\n",
       "      <th>Venue Category</th>\n",
       "    </tr>\n",
       "  </thead>\n",
       "  <tbody>\n",
       "    <tr>\n",
       "      <th>Region Avg Price</th>\n",
       "      <td>1.00000</td>\n",
       "      <td>0.09475</td>\n",
       "    </tr>\n",
       "    <tr>\n",
       "      <th>Venue Category</th>\n",
       "      <td>0.09475</td>\n",
       "      <td>1.00000</td>\n",
       "    </tr>\n",
       "  </tbody>\n",
       "</table>\n",
       "</div>"
      ],
      "text/plain": [
       "                  Region Avg Price  Venue Category\n",
       "Region Avg Price           1.00000         0.09475\n",
       "Venue Category             0.09475         1.00000"
      ]
     },
     "execution_count": 80,
     "metadata": {},
     "output_type": "execute_result"
    }
   ],
   "source": [
    "venue_count.corr()"
   ]
  },
  {
   "cell_type": "markdown",
   "metadata": {},
   "source": [
    "The scatter plot and 'corr' function shows there is no correlation between house price and the number of nearby venues. This shows that an area with lots of venues will have minimal impact on house price in London."
   ]
  },
  {
   "cell_type": "code",
   "execution_count": null,
   "metadata": {},
   "outputs": [],
   "source": [
    "regr = linear_model.LinearRegression()\n",
    "\n",
    "#Set venues as features\n",
    "x = df1.iloc[:, 2:df1.shape[1]]\n",
    "\n",
    "#Set price as result(y)\n",
    "y=df1[['Average Price']]\n",
    "\n",
    "#Fit data\n",
    "regr.fit(x, y)"
   ]
  },
  {
   "cell_type": "code",
   "execution_count": 16,
   "metadata": {},
   "outputs": [
    {
     "name": "stdout",
     "output_type": "stream",
     "text": [
      "Coefficients:  [[-3.85392914e+03 -5.72399489e+03 -7.60439865e+02 -7.54245598e+02\n",
      "  -1.88536209e+03  1.37655273e+03  1.26451237e+03  8.41594150e+03\n",
      "  -6.50981265e+03 -2.88100039e+02 -2.89272375e+03 -1.90812414e+02\n",
      "  -2.45541432e+03  8.50338231e+03 -7.90726334e+03  1.08972777e+04\n",
      "  -4.21067213e+03 -3.51909553e+03 -2.80327699e+03 -2.48286081e+02\n",
      "   3.26810350e+03 -2.94952353e+03 -1.29836235e+03  2.38992441e+03\n",
      "  -1.16766984e+03  3.00237401e+03 -7.57595857e+02  1.18832235e+04\n",
      "   6.69167938e+03  3.37135612e+03 -1.47276538e+03  9.62687021e+00\n",
      "   1.05208062e+03 -1.40562317e+03 -4.51342568e+03  5.44950854e+02\n",
      "  -5.48091085e+02  7.50058842e+03  6.94900367e+03 -2.99493548e+03\n",
      "  -2.77439591e+02  5.38601219e+03  5.50630975e+03 -5.10426991e+03\n",
      "  -7.53004692e+02 -8.66450441e+01 -1.96500509e+03  1.27694325e+03\n",
      "   2.19879838e+02 -3.89098350e+03 -3.19042725e+03  5.35915927e+02\n",
      "  -2.33253667e+02  1.46574640e+04 -8.13561561e+02  3.93903297e+03\n",
      "  -2.32533592e+03 -3.97893403e+03  5.22437970e+03  5.61225508e+03\n",
      "  -3.43139895e+03 -9.91105156e+02  4.56653610e+03 -1.34524892e+03\n",
      "  -1.67667700e+03 -5.36526002e+02 -2.50648299e+02  3.49120052e+03\n",
      "   5.34336916e+02  9.30855789e+02  5.00414900e-01 -7.44185950e+02\n",
      "  -6.01300533e+03  5.79123454e+02 -1.32716234e+03  4.99434604e+03\n",
      "  -1.72424815e+03  4.47827228e+02 -5.99805766e+03 -8.13561561e+02\n",
      "   4.56510054e+03 -1.57240416e+02  1.61814884e+02 -3.31959392e+03\n",
      "  -1.87961490e+03 -9.48657416e+03 -2.18813178e+03  5.69550696e+03\n",
      "   8.22469471e+03  3.83762566e+03 -9.68028073e+02  4.91107589e+02\n",
      "   4.71707330e+03  2.81168047e+02  1.12451569e+03  1.18454668e+01\n",
      "   2.99273105e+02  2.99273105e+02  2.43224007e+02  8.70457410e+01\n",
      "   1.77667244e+03 -5.19942739e+02 -9.93518102e+02 -8.61477116e+03\n",
      "  -2.47276934e+03 -2.05176056e+02 -5.36526002e+02 -4.87403317e+03\n",
      "  -3.01313962e+03  6.16313286e+02  1.37107124e+03  2.40057313e+03\n",
      "  -1.60979961e+04  8.64741564e+02  6.16313286e+02  7.46728262e+03\n",
      "   5.95865347e+02  9.25412424e+03  6.16313286e+02 -1.22796995e+03\n",
      "  -5.60179745e+03 -3.52253866e+03 -5.35220229e+02  9.26380299e+03\n",
      "  -4.75547279e+03  1.61814884e+02  3.18694931e+03  1.23193517e+04\n",
      "   2.04180316e+03  1.58508869e+04 -2.19134946e+03 -2.76161155e+03\n",
      "  -3.43510469e+03 -3.45532859e+02 -8.99039549e+02  1.44415730e+04\n",
      "  -5.81222501e+01  6.90524319e+03  2.99273105e+02 -5.40509872e+03\n",
      "   3.28064348e+02 -3.21441876e+03 -2.66589881e+03  1.69091248e+02\n",
      "   3.52169596e+03  1.44033661e+02 -1.13068872e+03 -1.92668722e+03\n",
      "  -9.70334936e+03 -4.63732597e+03 -7.10507762e+03 -1.17833785e+02\n",
      "  -2.33253667e+02 -5.88756866e+02 -5.38299134e+02  4.47827228e+02\n",
      "   2.60832896e+03  2.28577746e+03 -2.09279321e+03  6.16313286e+02\n",
      "   1.14305564e+03 -4.10909346e+03 -5.69874417e+02 -6.76852204e+00\n",
      "  -7.15303559e+03 -1.20769528e+04  1.38518425e+03 -5.42810128e+03\n",
      "   3.23629768e+02  1.70081498e+04 -2.34351633e+02 -8.86621696e+02\n",
      "   3.40786611e+03 -4.92267904e+03 -4.93667161e+03 -8.80934846e+01\n",
      "  -4.46798709e+03 -9.67545569e+02 -2.90001416e+03  1.77507399e+03\n",
      "   3.84080616e+03 -1.44391494e+03  9.88481872e+02 -9.91279358e+03\n",
      "   6.87773975e+02 -1.59043252e+03 -4.82267930e+03  6.18459636e+03\n",
      "  -1.88418025e+03  9.18552090e+02  9.22129911e+03  3.07412999e+03\n",
      "  -5.18101722e+03 -5.54507572e+02 -6.15362988e+02  8.73353203e+03\n",
      "   6.10197729e+03 -2.51476888e+02  1.85639406e+02 -6.45407195e+03\n",
      "   6.21820993e+02 -8.32347715e+03 -2.27128631e+03  6.62093818e+03\n",
      "  -2.30211349e+02  4.41600846e+02 -2.05176056e+02  2.26344068e+03\n",
      "  -8.13561561e+02  4.47827228e+02 -1.17751373e+03 -2.78177657e+03\n",
      "  -4.26334745e+03 -5.38299134e+02 -1.32357110e+03 -3.31959392e+03\n",
      "  -4.97747851e+03 -2.18342055e+03  1.06867383e+03  3.93041773e+01\n",
      "  -6.56215491e+03  3.51228920e+03 -1.55385391e+03 -3.16623360e+03\n",
      "  -5.57420204e+02 -1.04112321e+03  1.61814884e+02 -2.03890095e+03\n",
      "  -1.55676180e+03  2.99034646e+03 -5.38299134e+02  2.80940916e+02\n",
      "   5.35915927e+02  9.37153473e+01 -9.99560533e+03 -5.88756866e+02\n",
      "   1.67585383e+03 -4.08484674e+02 -2.16242580e+03  5.24136328e+03\n",
      "   2.26132372e+03 -1.97153657e+03  3.59054592e+03  7.95172046e+02\n",
      "   2.18803477e+03  3.70757956e+03  6.05422714e+03 -7.53004692e+02\n",
      "  -3.10951682e+03  4.45704430e+03 -2.55792230e+03  7.44329316e+03\n",
      "   6.16313286e+02  2.72554677e+03 -2.78177657e+03 -2.90467740e+03\n",
      "  -2.24277824e+03  1.11380618e+04 -1.55808807e+01 -5.88752128e+02\n",
      "  -4.04417108e+02 -5.90782840e+03 -8.66450441e+01  6.32892949e+03\n",
      "   4.99434604e+03 -1.10207564e+02 -5.36526002e+02 -3.30150079e+03\n",
      "   4.64109303e+03  2.99273105e+02  3.79691947e+03  2.87474055e+02\n",
      "  -1.99758505e+02  5.79500256e+03  5.34336916e+02  1.97081754e+02\n",
      "  -8.58901868e+03 -1.06931700e+02 -1.87869545e+03 -7.54539667e+03\n",
      "   3.14781734e+02  5.20066544e+03 -8.61275451e+03 -7.99107970e+03\n",
      "  -4.57078561e+02 -2.05176056e+02 -3.36123636e+03  7.02545884e+03\n",
      "   3.33391593e+03  1.32605682e+03  1.77172830e+02 -9.31931621e+02\n",
      "  -3.04037530e+03  1.61814884e+02  3.62838094e+02  2.22219656e+04\n",
      "   1.75130987e+02 -3.68592643e+02  2.48584588e+03 -1.45111841e+03\n",
      "  -5.99627803e+03 -2.03890095e+03 -4.74518224e+02 -3.56812170e+03\n",
      "  -1.70508676e+02 -5.36526002e+02 -3.39158779e+03  1.09573492e+04\n",
      "   2.12396110e+03  3.07642327e+03 -8.13561561e+02  8.91806072e+02\n",
      "   4.99434604e+03 -6.67763925e+02 -6.28130921e+02 -6.01800482e+03\n",
      "   8.38997361e+03  1.51632417e+04  8.63795164e+02  5.49847137e+03\n",
      "  -3.01598634e+03  7.92569021e+02  3.10461051e+03 -8.55071108e+02\n",
      "  -2.92345728e+03 -2.05176056e+02  8.06954011e+03  5.44950854e+02\n",
      "   3.60428424e+03 -1.51308545e+04 -7.70775051e+02  6.91274367e+02\n",
      "   2.81168047e+02 -6.86401672e+03  2.11739467e+03  1.03833405e+03\n",
      "  -5.88756866e+02 -8.66450441e+01  5.18009062e+02 -1.57700747e+03\n",
      "   1.79015758e+03  9.63812659e+03  1.70393305e+03  4.06377680e+02\n",
      "  -5.16590387e+03  1.45920525e+03 -4.52443022e+03 -7.53004692e+02\n",
      "  -2.41676158e+03  5.91126032e+03  9.25689781e+03 -5.49038333e+03\n",
      "   4.99434604e+03  2.99273105e+02  3.09644096e+03 -3.08674873e+03\n",
      "   3.37045081e+03  6.52384769e+01  1.13175529e+03 -4.16472983e+02\n",
      "  -8.17103576e+03  5.52935235e+03 -7.86455009e+03 -5.72792002e+02\n",
      "   2.43224007e+02 -7.35960093e+02  3.14663829e+03 -5.36526002e+02\n",
      "   1.76414479e+02 -6.91345580e+03 -8.99039549e+02  1.97703139e+01\n",
      "   2.99273105e+02  1.05208062e+03 -3.68592643e+02 -7.35960093e+02\n",
      "   1.61814884e+02  2.74082781e+04 -4.09968954e+03  8.32225128e+02\n",
      "   1.13492097e+04  2.44321983e+03  1.15857362e+03 -1.12884105e+03\n",
      "   6.83023711e+02  3.12570891e+03 -2.38082688e+03 -1.37183105e+03\n",
      "   1.23138124e+03 -5.06027118e+03 -2.96128405e+03 -4.46476129e+03\n",
      "  -9.07907790e+02  1.81779715e+03 -1.33771873e+03  6.85681704e+02\n",
      "   6.70528041e+03 -4.99780267e+03  1.53545785e+03 -6.14668435e+03\n",
      "   6.16313286e+02  2.57165241e+03  1.14365440e+04 -6.35529843e+02\n",
      "   5.12384693e+03 -2.99694732e+03  1.07172047e+03  5.18009062e+02\n",
      "   3.75336766e+03 -5.32620645e+02 -1.79461179e+03 -5.08918805e+03\n",
      "  -2.05176056e+02 -6.82460661e+03 -1.99976693e+03 -5.88756866e+02\n",
      "  -8.66450441e+01  7.98677888e+03 -4.50500082e+03  5.38414895e+02\n",
      "  -2.03890095e+03  5.44950854e+02 -6.29384097e+02  3.76653120e+03\n",
      "  -2.47927191e+03 -4.08686348e+03 -2.33253667e+02 -3.93604130e+02\n",
      "  -2.39464557e+03  3.54992472e+03  2.99273105e+02 -2.78118272e+03\n",
      "   8.65008081e+03  2.43224007e+02 -5.38299134e+02 -8.63241654e+03\n",
      "   6.17356898e+03 -5.56355313e+03]]\n",
      "Intercept:  [361720.73703206]\n"
     ]
    }
   ],
   "source": [
    "regr = linear_model.LinearRegression()\n",
    "\n",
    "#Set venues as features\n",
    "x = df1.iloc[:, 2:df1.shape[1]]\n",
    "\n",
    "#Set price as result(y)\n",
    "y=df1[['Average Price']]\n",
    "\n",
    "#Fit data\n",
    "regr.fit(x, y)\n",
    "\n",
    "#Add feature labels and sort\n",
    "coefs = pd.DataFrame(regr.coef_).T\n",
    "df_coef = pd.concat([df_features, coefs],axis=1,ignore_index=True)\n",
    "df_coef.drop(columns=0, inplace=True)\n",
    "df_coef.rename(columns={1:'Venue Category',2:'Coefficient'}, inplace=True)\n",
    "df_coef.sort_values(by=['Coefficient'],inplace=True)\n",
    "\n",
    "#print ('Coefficients: ', regr.coef_)\n",
    "print ('Intercept: ',regr.intercept_)"
   ]
  },
  {
   "cell_type": "code",
   "execution_count": 146,
   "metadata": {},
   "outputs": [
    {
     "name": "stdout",
     "output_type": "stream",
     "text": [
      "Intercept:  [361310.40002977]\n"
     ]
    }
   ],
   "source": [
    "print ('Intercept: ',regr.intercept_)"
   ]
  },
  {
   "cell_type": "code",
   "execution_count": null,
   "metadata": {},
   "outputs": [],
   "source": []
  }
 ],
 "metadata": {
  "kernelspec": {
   "display_name": "Python 3",
   "language": "python",
   "name": "python3"
  },
  "language_info": {
   "codemirror_mode": {
    "name": "ipython",
    "version": 3
   },
   "file_extension": ".py",
   "mimetype": "text/x-python",
   "name": "python",
   "nbconvert_exporter": "python",
   "pygments_lexer": "ipython3",
   "version": "3.7.3"
  }
 },
 "nbformat": 4,
 "nbformat_minor": 2
}
